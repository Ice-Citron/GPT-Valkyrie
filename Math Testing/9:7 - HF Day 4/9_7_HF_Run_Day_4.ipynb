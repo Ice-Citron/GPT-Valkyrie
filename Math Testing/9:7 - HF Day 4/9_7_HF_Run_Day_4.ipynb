{
  "nbformat": 4,
  "nbformat_minor": 0,
  "metadata": {
    "colab": {
      "provenance": []
    },
    "kernelspec": {
      "name": "python3",
      "display_name": "Python 3"
    },
    "language_info": {
      "name": "python"
    }
  },
  "cells": [
    {
      "cell_type": "markdown",
      "source": [
        "torchrun --standalone --nproc_per_node=6 train_gpt2-final.py"
      ],
      "metadata": {
        "id": "IuiV14Lgbp1b"
      }
    },
    {
      "cell_type": "markdown",
      "source": [
        "# task for tommorow\n",
        "\n",
        "- get model converted and usable by HF\n",
        "- fix and clear training files\n",
        "- get RMSN trained\n",
        "- check PN\n",
        "\n",
        "---\n",
        "\n",
        "- close GPU when leave"
      ],
      "metadata": {
        "id": "8FUIdZMcbpzN"
      }
    },
    {
      "cell_type": "markdown",
      "source": [],
      "metadata": {
        "id": "GasMVk_Tbpxf"
      }
    }
  ]
}