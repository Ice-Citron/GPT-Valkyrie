{
  "nbformat": 4,
  "nbformat_minor": 0,
  "metadata": {
    "colab": {
      "provenance": []
    },
    "kernelspec": {
      "name": "python3",
      "display_name": "Python 3"
    },
    "language_info": {
      "name": "python"
    }
  },
  "cells": [
    {
      "cell_type": "markdown",
      "source": [
        "- https://claude.ai/chat/17520c22-dab4-4327-a86b-fa959f99e7d1"
      ],
      "metadata": {
        "id": "SrOSlJqd6Spx"
      }
    },
    {
      "cell_type": "code",
      "execution_count": 1,
      "metadata": {
        "colab": {
          "base_uri": "https://localhost:8080/"
        },
        "id": "Vw1adIIr5hRd",
        "outputId": "611d126f-bad7-4d28-d57c-16de3485339b"
      },
      "outputs": [
        {
          "output_type": "stream",
          "name": "stdout",
          "text": [
            "Original matrix:\n",
            "tensor([[0.4963, 0.7682, 0.0885, 0.1320, 0.3074, 0.6341, 0.4901, 0.8964, 0.4556,\n",
            "         0.6323],\n",
            "        [0.3489, 0.4017, 0.0223, 0.1689, 0.2939, 0.5185, 0.6977, 0.8000, 0.1610,\n",
            "         0.2823],\n",
            "        [0.6816, 0.9152, 0.3971, 0.8742, 0.4194, 0.5529, 0.9527, 0.0362, 0.1852,\n",
            "         0.3734]])\n",
            "\n",
            "Variance using Method 1 (original implementation):\n",
            "tensor([[0.0608],\n",
            "        [0.0534],\n",
            "        [0.0885]])\n",
            "\n",
            "Variance using Method 2 (torch.var()):\n",
            "tensor([[0.0608],\n",
            "        [0.0534],\n",
            "        [0.0885]])\n",
            "\n",
            "Absolute difference between methods:\n",
            "tensor([[3.7253e-08],\n",
            "        [1.1176e-08],\n",
            "        [2.2352e-08]])\n",
            "\n",
            "Maximum difference: 3.725290298461914e-08\n",
            "Are results equal within 1e-6 tolerance? True\n"
          ]
        }
      ],
      "source": [
        "import torch\n",
        "import torch.nn.functional as F\n",
        "\n",
        "# Set random seed for reproducibility\n",
        "torch.manual_seed(0)\n",
        "\n",
        "# Create a 3x10 random matrix\n",
        "x = torch.rand(3, 10)\n",
        "\n",
        "print(\"Original matrix:\")\n",
        "print(x)\n",
        "print()\n",
        "\n",
        "# Method 1: Original implementation\n",
        "def variance_method1(x):\n",
        "    mean = x.mean(dim=-1, keepdim=True)\n",
        "    mean_x2 = torch.square(x).mean(dim=-1, keepdim=True)\n",
        "    var = mean_x2 - torch.square(mean)\n",
        "    return var\n",
        "\n",
        "# Method 2: Using torch.var()\n",
        "def variance_method2(x):\n",
        "    return torch.var(x, dim=-1, keepdim=True, unbiased=False)\n",
        "\n",
        "# Calculate variances\n",
        "var1 = variance_method1(x)\n",
        "var2 = variance_method2(x)\n",
        "\n",
        "print(\"Variance using Method 1 (original implementation):\")\n",
        "print(var1)\n",
        "print()\n",
        "\n",
        "print(\"Variance using Method 2 (torch.var()):\")\n",
        "print(var2)\n",
        "print()\n",
        "\n",
        "# Compare the results\n",
        "diff = torch.abs(var1 - var2)\n",
        "print(\"Absolute difference between methods:\")\n",
        "print(diff)\n",
        "print()\n",
        "\n",
        "print(f\"Maximum difference: {diff.max().item()}\")\n",
        "print(f\"Are results equal within 1e-6 tolerance? {torch.allclose(var1, var2, atol=1e-6)}\")"
      ]
    },
    {
      "cell_type": "code",
      "source": [],
      "metadata": {
        "id": "tAONFm4z5jBY"
      },
      "execution_count": null,
      "outputs": []
    }
  ]
}