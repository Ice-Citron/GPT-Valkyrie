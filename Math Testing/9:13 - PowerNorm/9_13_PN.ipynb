{
  "nbformat": 4,
  "nbformat_minor": 0,
  "metadata": {
    "colab": {
      "provenance": []
    },
    "kernelspec": {
      "name": "python3",
      "display_name": "Python 3"
    },
    "language_info": {
      "name": "python"
    }
  },
  "cells": [
    {
      "cell_type": "code",
      "execution_count": null,
      "metadata": {
        "id": "dvysQUGO6Spg"
      },
      "outputs": [],
      "source": [
        "import torch\n",
        "\n",
        "# Create a sample tensor with shape (B, T, C)\n",
        "B, T, C = 2, 3, 4\n",
        "tensor = torch.randn(B, T, C)\n",
        "print(\"Original tensor shape:\", tensor.shape)\n",
        "print(\"Original tensor:\")\n",
        "print(tensor)\n",
        "\n",
        "# Method 1: mean across dimensions (0, 1) for (B, T, C)\n",
        "mean_0_1 = torch.mean(tensor, dim=(0, 1))\n",
        "print(\"\\nMean across dim (0, 1):\")\n",
        "print(mean_0_1)\n",
        "print(\"Shape after mean(dim=(0, 1)):\", mean_0_1.shape)\n",
        "\n",
        "# Method 2: reshape to (B, C, T) and then mean across dimension 0\n",
        "tensor_reshaped = tensor.permute(0, 2, 1)  # Reshape to (B, C, T)\n",
        "print(\"\\nReshaped tensor shape:\", tensor_reshaped.shape)\n",
        "mean_0_reshaped = torch.mean(tensor_reshaped, dim=0)\n",
        "print(\"\\nMean across dim 0 of reshaped tensor:\")\n",
        "print(mean_0_reshaped)\n",
        "print(\"Shape after mean(dim=0) of reshaped:\", mean_0_reshaped.shape)\n",
        "\n",
        "# Compare the results\n",
        "print(\"\\nAre the results equal?\", torch.allclose(mean_0_1, mean_0_reshaped.mean(dim=1)))"
      ]
    },
    {
      "cell_type": "code",
      "source": [],
      "metadata": {
        "id": "sY5bs-Tf6XV8"
      },
      "execution_count": null,
      "outputs": []
    }
  ]
}